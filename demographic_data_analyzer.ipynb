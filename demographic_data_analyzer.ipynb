{
 "cells": [
  {
   "cell_type": "code",
   "execution_count": 62,
   "id": "4bbeb738-2677-4ed5-9340-97180e95c12b",
   "metadata": {},
   "outputs": [],
   "source": [
    "# import needed libraries\n",
    "import numpy as np\n",
    "import pandas as pd"
   ]
  },
  {
   "cell_type": "code",
   "execution_count": 63,
   "id": "fec17282-7c5e-4b48-8e36-72fab0e4e599",
   "metadata": {},
   "outputs": [
    {
     "name": "stdout",
     "output_type": "stream",
     "text": [
      "   age         workclass  fnlwgt  education  education-num  \\\n",
      "0   39         State-gov   77516  Bachelors             13   \n",
      "1   50  Self-emp-not-inc   83311  Bachelors             13   \n",
      "2   38           Private  215646    HS-grad              9   \n",
      "3   53           Private  234721       11th              7   \n",
      "4   28           Private  338409  Bachelors             13   \n",
      "\n",
      "       marital-status         occupation   relationship   race     sex  \\\n",
      "0       Never-married       Adm-clerical  Not-in-family  White    Male   \n",
      "1  Married-civ-spouse    Exec-managerial        Husband  White    Male   \n",
      "2            Divorced  Handlers-cleaners  Not-in-family  White    Male   \n",
      "3  Married-civ-spouse  Handlers-cleaners        Husband  Black    Male   \n",
      "4  Married-civ-spouse     Prof-specialty           Wife  Black  Female   \n",
      "\n",
      "   capital-gain  capital-loss  hours-per-week native-country salary  \n",
      "0          2174             0              40  United-States  <=50K  \n",
      "1             0             0              13  United-States  <=50K  \n",
      "2             0             0              40  United-States  <=50K  \n",
      "3             0             0              40  United-States  <=50K  \n",
      "4             0             0              40           Cuba  <=50K  \n"
     ]
    }
   ],
   "source": [
    "df = pd.read_csv('adult.data.csv')\n",
    "print(df.head())"
   ]
  },
  {
   "cell_type": "code",
   "execution_count": 64,
   "id": "a93d40d1-cb59-4431-8253-67659e7ed9c4",
   "metadata": {},
   "outputs": [
    {
     "name": "stdout",
     "output_type": "stream",
     "text": [
      "race\n",
      "White                 27816\n",
      "Black                  3124\n",
      "Asian-Pac-Islander     1039\n",
      "Amer-Indian-Eskimo      311\n",
      "Other                   271\n",
      "Name: count, dtype: int64\n"
     ]
    }
   ],
   "source": [
    "# How many people of each race are represented in this dataset? This should be a Pandas series with race names as the index labels.\n",
    "race_count = df['race'].value_counts()\n",
    "print(race_count)"
   ]
  },
  {
   "cell_type": "code",
   "execution_count": 65,
   "id": "f3a5e526-30f2-484a-b795-b09bc479edf7",
   "metadata": {},
   "outputs": [
    {
     "name": "stdout",
     "output_type": "stream",
     "text": [
      "39.43354749885268\n"
     ]
    }
   ],
   "source": [
    "# What is the average age of men?\n",
    "avg_of_men = df[df['sex'] == 'Male']['age'].mean()\n",
    "print(avg_of_men)"
   ]
  },
  {
   "cell_type": "code",
   "execution_count": 66,
   "id": "1b40b284-2e0c-4652-9731-319350c32d92",
   "metadata": {},
   "outputs": [
    {
     "name": "stdout",
     "output_type": "stream",
     "text": [
      "16.4\n"
     ]
    }
   ],
   "source": [
    "# What is the percentage of people who have a Bachelor's degree?\n",
    "num_bachelors = len(df[df['education'] == 'Bachelors'])\n",
    "total_num = len(df)\n",
    "bachelors_percentage = round(num_bachelors / total_num * 100, 1)\n",
    "print(bachelors_percentage)"
   ]
  },
  {
   "cell_type": "code",
   "execution_count": 67,
   "id": "d7b1f477",
   "metadata": {},
   "outputs": [
    {
     "name": "stdout",
     "output_type": "stream",
     "text": [
      "46.5\n"
     ]
    }
   ],
   "source": [
    "# What percentage of people with advanced education (Bachelors, Masters, or Doctorate) make more than 50K?\n",
    "\n",
    "\n",
    "# Filter the dataset for people with advanced education\n",
    "advanced_education = df[df['education'].isin(['Bachelors', 'Masters', 'Doctorate'])]\n",
    "\n",
    "# Calculate the number of people with advanced education who earn more than 50K\n",
    "high_earners_with_advanced_education = advanced_education[advanced_education['salary'] == '>50K']\n",
    "\n",
    "# Calculate the percentage\n",
    "high_earners_with_advanced_degress_percentage = round((len(high_earners_with_advanced_education) / len(advanced_education)) * 100, 1)\n",
    "print(high_earners_with_advanced_degress_percentage)"
   ]
  },
  {
   "cell_type": "code",
   "execution_count": 68,
   "id": "902d6ad9-9909-44d1-803a-8189bdd718b8",
   "metadata": {},
   "outputs": [
    {
     "name": "stdout",
     "output_type": "stream",
     "text": [
      "17.4\n"
     ]
    }
   ],
   "source": [
    "# What percentage of people without advanced education make more than 50K?\n",
    "\n",
    "# Filter the dataset for people without advanced education\n",
    "lower_education = df[~df['education'].isin(['Bachelors', 'Masters', 'Doctorate'])]\n",
    "\n",
    "# Calculate the number of people with advanced education who earn more than 50K\n",
    "high_earners_without_advanced_education = lower_education[lower_education['salary'] == '>50K']\n",
    "\n",
    "# Calculate the percentage\n",
    "high_earners_without_advanced_degress_percentage = round((len(high_earners_without_advanced_education) / len(lower_education)) * 100, 1)\n",
    "print(high_earners_without_advanced_degress_percentage)"
   ]
  },
  {
   "cell_type": "code",
   "execution_count": 69,
   "id": "c62553e8-e4c4-4fa0-8316-3022fb58a1ea",
   "metadata": {},
   "outputs": [
    {
     "name": "stdout",
     "output_type": "stream",
     "text": [
      "1\n"
     ]
    }
   ],
   "source": [
    "# What is the minimum number of hours a person works per week?\n",
    "min_hours = df['hours-per-week'].min()\n",
    "print(min_hours)"
   ]
  },
  {
   "cell_type": "code",
   "execution_count": 70,
   "id": "41d8d6c5-e297-4a2f-aac7-9b7e7da22267",
   "metadata": {},
   "outputs": [
    {
     "name": "stdout",
     "output_type": "stream",
     "text": [
      "10.0\n"
     ]
    }
   ],
   "source": [
    "# What percentage of the people who work the minimum number of hours per week have a salary of more than 50K?\n",
    "\n",
    "# Filter the dataset for people who work the min_hours\n",
    "min_hours_workers = df[df['hours-per-week'] == min_hours]\n",
    "# print(min_hours_workers)\n",
    "min_hours_workers_rich = min_hours_workers[min_hours_workers['salary'] == '>50K']\n",
    "# print(min_hours_workers_rich)\n",
    "\n",
    "min_hours_workers_rich_percentage = round((len(min_hours_workers_rich) / len(min_hours_workers)) * 100, 1)\n",
    "print(min_hours_workers_rich_percentage)"
   ]
  },
  {
   "cell_type": "code",
   "execution_count": 71,
   "id": "f39b674d-ec6f-4485-a4f9-53ad509a75b4",
   "metadata": {},
   "outputs": [
    {
     "name": "stdout",
     "output_type": "stream",
     "text": [
      "Iran\n",
      "41.9\n"
     ]
    }
   ],
   "source": [
    "# What country has the highest percentage of people that earn >50K and what is that percentage?\n",
    "country_count = df['native-country'].value_counts()\n",
    "# print(country_count)\n",
    "\n",
    "country_rich_count = df[df['salary'] == '>50K']['native-country'].value_counts()\n",
    "# print(country_rich_count)\n",
    "\n",
    "highest_earning_country = (country_rich_count / country_count * 100).idxmax()\n",
    "print(highest_earning_country)\n",
    "\n",
    "highest_earning_country_percentage = round((country_rich_count / country_count * 100).max(), 1)\n",
    "print(highest_earning_country_percentage)"
   ]
  },
  {
   "cell_type": "code",
   "execution_count": 72,
   "id": "bcea6df9-db28-45a6-b9b9-611a01b6681f",
   "metadata": {},
   "outputs": [
    {
     "name": "stdout",
     "output_type": "stream",
     "text": [
      "       age         workclass  fnlwgt   education  education-num  \\\n",
      "11      30         State-gov  141297   Bachelors             13   \n",
      "892     28           Private  164170   Assoc-voc             11   \n",
      "968     48           Private  164966   Bachelors             13   \n",
      "1029    48      Self-emp-inc  138370     Masters             14   \n",
      "1095    22  Self-emp-not-inc  361280   Bachelors             13   \n",
      "...    ...               ...     ...         ...            ...   \n",
      "30152   48           Private  119471   Doctorate             16   \n",
      "30833   25           Private  110978  Assoc-acdm             12   \n",
      "30871   26           Private  160261     Masters             14   \n",
      "31327   38         State-gov  125499   Bachelors             13   \n",
      "31357   23           Private  143003     Masters             14   \n",
      "\n",
      "              marital-status       occupation   relationship  \\\n",
      "11        Married-civ-spouse   Prof-specialty        Husband   \n",
      "892       Married-civ-spouse     Adm-clerical           Wife   \n",
      "968       Married-civ-spouse  Exec-managerial        Husband   \n",
      "1029   Married-spouse-absent            Sales  Not-in-family   \n",
      "1095           Never-married   Prof-specialty      Own-child   \n",
      "...                      ...              ...            ...   \n",
      "30152     Married-civ-spouse   Prof-specialty        Husband   \n",
      "30833     Married-civ-spouse     Adm-clerical           Wife   \n",
      "30871          Never-married   Prof-specialty  Not-in-family   \n",
      "31327     Married-civ-spouse   Prof-specialty        Husband   \n",
      "31357     Married-civ-spouse   Prof-specialty        Husband   \n",
      "\n",
      "                     race     sex  capital-gain  capital-loss  hours-per-week  \\\n",
      "11     Asian-Pac-Islander    Male             0             0              40   \n",
      "892    Asian-Pac-Islander  Female             0             0              40   \n",
      "968    Asian-Pac-Islander    Male             0             0              40   \n",
      "1029   Asian-Pac-Islander    Male             0             0              50   \n",
      "1095   Asian-Pac-Islander    Male             0             0              20   \n",
      "...                   ...     ...           ...           ...             ...   \n",
      "30152  Asian-Pac-Islander    Male             0             0              40   \n",
      "30833  Asian-Pac-Islander  Female             0             0              37   \n",
      "30871  Asian-Pac-Islander    Male             0             0              20   \n",
      "31327  Asian-Pac-Islander    Male          7688             0              60   \n",
      "31357  Asian-Pac-Islander    Male             0          1887              50   \n",
      "\n",
      "      native-country salary  \n",
      "11             India   >50K  \n",
      "892            India  <=50K  \n",
      "968            India   >50K  \n",
      "1029           India  <=50K  \n",
      "1095           India  <=50K  \n",
      "...              ...    ...  \n",
      "30152          India   >50K  \n",
      "30833          India   >50K  \n",
      "30871          India  <=50K  \n",
      "31327          India   >50K  \n",
      "31357          India   >50K  \n",
      "\n",
      "[100 rows x 15 columns]\n",
      "\n",
      "occupation\n",
      "Prof-specialty       40\n",
      "Sales                14\n",
      "Adm-clerical         11\n",
      "Exec-managerial      10\n",
      "Craft-repair          5\n",
      "Tech-support          5\n",
      "Other-service         4\n",
      "Protective-serv       4\n",
      "Handlers-cleaners     3\n",
      "Transport-moving      2\n",
      "Machine-op-inspct     2\n",
      "Name: count, dtype: int64\n",
      "\n",
      "Prof-specialty\n"
     ]
    }
   ],
   "source": [
    "# Identify the most popular occupation for those who earn >50K in India.\n",
    "people_of_india = df[df['native-country'] == 'India']\n",
    "print(people_of_india)\n",
    "print()\n",
    "\n",
    "occupation_counts = people_of_india['occupation'].value_counts()\n",
    "print(occupation_counts)\n",
    "print()\n",
    "\n",
    "top_in_occupation = occupation_counts.idxmax()\n",
    "print(top_in_occupation)"
   ]
  },
  {
   "cell_type": "code",
   "execution_count": null,
   "id": "61bf626e",
   "metadata": {},
   "outputs": [],
   "source": []
  }
 ],
 "metadata": {
  "kernelspec": {
   "display_name": "Python 3 (ipykernel)",
   "language": "python",
   "name": "python3"
  },
  "language_info": {
   "codemirror_mode": {
    "name": "ipython",
    "version": 3
   },
   "file_extension": ".py",
   "mimetype": "text/x-python",
   "name": "python",
   "nbconvert_exporter": "python",
   "pygments_lexer": "ipython3",
   "version": "3.11.5"
  }
 },
 "nbformat": 4,
 "nbformat_minor": 5
}
